{
 "cells": [
  {
   "cell_type": "markdown",
   "id": "75560fe3-6c7c-4f1b-afa2-7dfdc4853c71",
   "metadata": {},
   "source": [
    "# L'heure de la modèlisation hydrologique est arrivée\n",
    "Et voilá. La suppréssion de biais finalisée, la modèlisation hydrologique peut commencer.\n",
    "\n",
    "L'util de modèlisation "
   ]
  },
  {
   "cell_type": "code",
   "execution_count": null,
   "id": "f784c17c-ffd2-4c9a-a629-93116b23aedb",
   "metadata": {},
   "outputs": [],
   "source": [
    "import pandas as pd\n",
    "from pathlib import Path\n",
    "from matplotlib import pyplot as plt\n",
    "from modules.multi_window_mapper import Multi_Window_Mapper\n",
    "from modules.quantile_mapping import QuantileMapper, QuantileMapping, QuantileDeltaMapping\n",
    "\n",
    "# Pour supprimer des avertissements\n",
    "import warnings\n",
    "warnings.filterwarnings('ignore')"
   ]
  },
  {
   "cell_type": "markdown",
   "id": "006fab16-296a-496f-acd4-46e60aa1fdd6",
   "metadata": {},
   "source": [
    "### Charger les données des projections et les données historiques\n",
    "`data/projections.csv` et `data/historical_data.csv`"
   ]
  },
  {
   "cell_type": "code",
   "execution_count": null,
   "id": "55bbac86",
   "metadata": {
    "scrolled": true
   },
   "outputs": [],
   "source": [
    "historical_data_file = Path(r'data/historical_data.csv')\n",
    "projections_file = Path(r'data/projections.csv')\n",
    "\n",
    "projections = pd.read_csv(projections_file, index_col=0, header = [0, 1, 2, 3], skiprows=[4], parse_dates=[0], date_format='%Y-%m-%d')\n",
    "historical = pd.read_csv(historical_data_file, index_col=0, header = [0, 1], parse_dates=[0], date_format='%Y-%m-%d')\n",
    "\n",
    "# Chagement des colonnes pour qu'elles soient similaires à celles de projections\n",
    "columns = historical.columns.to_frame(index=False)\n",
    "columns.loc[:, 'Zone'] = columns.loc[:, 'Zone'].map(lambda x: x[0] + x[1:].lower())\n",
    "columns.loc[:, 'Variables'] = columns.loc[:, 'Variables'].map(lambda x: {'P [mm]': 'pr', 'T [C]': 'tas', 'Hobs [mm]':'hobs', 'Hsim [mm]':'hsim'}[x])\n",
    "historical.columns = pd.MultiIndex.from_frame(columns)\n",
    "historical"
   ]
  },
  {
   "cell_type": "markdown",
   "id": "457deca3-1d2e-44fb-ac81-c100fee4aa69",
   "metadata": {},
   "source": [
    "### Ciblons une projection en particulier\n",
    "Le \"Quantile Mappint\" est appliqué à une projection à la fois.  \n",
    "Nous avons besoin de:\n",
    "- Définir le cas (rcp45 ou rcp85).\n",
    "- Définir le modèle.\n",
    "- Choisir le bassin versant.\n",
    "- Une référence historique.\n",
    "- La \"projection\" pour la période historique.\n",
    "- La projection future.\n",
    "\n",
    "Pensant à l'utilisation future, la procédure de séléction sera mise en forme par une fonction"
   ]
  },
  {
   "cell_type": "code",
   "execution_count": null,
   "id": "e9d30d4d",
   "metadata": {},
   "outputs": [],
   "source": [
    "cas = 'rcp85'\n",
    "modele = 'CCCma-CanESM2_r1i1p1_SMHI-RCA4_v1'\n",
    "bv = 'Q18'\n",
    "\n",
    "def apply_quantile_mapping(cas, modele, bv):\n",
    "    '''\n",
    "\n",
    "    '''\n",
    "    \n",
    "    tas_historical_bv = historical.loc[:, (bv, 'tas')]\n",
    "    tas_projection_historical_bv = projections.loc[:, ('tas', 'historical', bv, modele)]\n",
    "    tas_projection_bv = projections.loc[:, ('tas', cas, bv, modele)]\n",
    "    tas_projection_bv = pd.concat((tas_projection_bv, tas_projection_historical_bv), axis=1).bfill(axis=1).iloc[:, [0]].sort_index()\n",
    "    \n",
    "    pr_historical_bv = historical.loc[:, (bv, 'pr')]\n",
    "    pr_projection_bv = projections.loc[:, ('pr', cas, bv, modele)]\n",
    "    pr_projection_historical_bv = projections.loc[:, ('pr', 'historical', bv, modele)]\n",
    "    pr_projection_bv = pd.concat((pr_projection_bv, pr_projection_historical_bv), axis=1).bfill(axis=1).iloc[:, [0]].sort_index()\n",
    "    \n",
    "    # Température\n",
    "    kw_kernel = {'model': QuantileDeltaMapping, # Le type de Quantile Mapping à utiliser\n",
    "                 'kw_model': {'trend_window': 10, # la fenêtre pour le calcul du \"delta\"\n",
    "                              'transformation': 'additive',\n",
    "                              'modified': False,\n",
    "                             },\n",
    "                }     \n",
    "    qm = QuantileMapper(projection_historical=tas_projection_bv, reference=tas_historical_bv,\n",
    "                        kernel=Multi_Window_Mapper, kw_kernel=kw_kernel,\n",
    "                        trend_window=5, # Le nombre d'années condidérées pour la moyenne glissante\n",
    "                        hydrological_year_month_start=9)\n",
    "    qm.map()\n",
    "    tas_corrected = qm.apply(tas_projection_bv)\n",
    "\n",
    "    # Précipitation\n",
    "    kw_kernel = {'model': QuantileMapping, # Le type de Quantile Mapping à utiliser\n",
    "            } \n",
    "    qm = QuantileMapper(projection_historical=pr_projection_bv, reference=pr_historical_bv,\n",
    "                        kernel=Multi_Window_Mapper, kw_kernel=kw_kernel,\n",
    "                        trend_window=5, # Le nombre d'années condidérées pour la moyenne glissante\n",
    "                        hydrological_year_month_start=9)\n",
    "    qm.map()\n",
    "    pr_corrected = qm.apply(pr_projection_bv)\n",
    "    \n",
    "    return pd.concat((pr_corrected, tas_corrected), keys=['pr', 'tas'], axis=1).loc['1960-09-01':,:]\n",
    "\n",
    "corrected = apply_quantile_mapping(cas, modele, bv)\n",
    "corrected.plot()\n",
    "corrected"
   ]
  },
  {
   "cell_type": "markdown",
   "id": "d0edeb61-87e7-4794-803a-13dccb48a2d5",
   "metadata": {},
   "source": [
    "### Interaction avec le modèle hydrologique\n",
    "\n",
    "a"
   ]
  },
  {
   "cell_type": "code",
   "execution_count": null,
   "id": "f82b6def-12e3-4eb1-85b4-71a8e7482b8b",
   "metadata": {},
   "outputs": [],
   "source": [
    "import shutil\n",
    "import openpyxl\n",
    "\n",
    "hydrological_folder = Path(r'hydrology/results') / bv / cas / modele\n",
    "hydrological_folder.mkdir(parents=True, exist_ok=True) # Créer le nouveau dossier\n",
    "\n",
    "template_hydrological_model = Path(r'hydrology/template_model.xlsx')\n",
    "active_hydrological_model = hydrological_folder / 'model.xlsx'\n",
    "\n",
    "# Faire une copie du modèle de base\n",
    "_ = shutil.copy(template_hydrological_model, active_hydrological_model)  # For Python 3.8+.\n",
    "\n",
    "# Trouver le modèle du bassin versant\n",
    "calibrated_hydrological_model = [i for i in Path(r'hydrology/base models/').glob(f'MODEL - pluie - débit {bv} *.xlsx')]\n",
    "if len(calibrated_hydrological_model)!=1:\n",
    "    raise(Exception(f'Problems with the basin \"{bv}\". Does the model exist?'))\n",
    "calibrated_hydrological_model = calibrated_hydrological_model[0]"
   ]
  },
  {
   "cell_type": "markdown",
   "id": "8e534058-e547-43d1-b62c-ada796abefb8",
   "metadata": {},
   "source": [
    "### "
   ]
  },
  {
   "cell_type": "code",
   "execution_count": null,
   "id": "66f78114-2725-4be6-a43f-6dcef5b8869a",
   "metadata": {},
   "outputs": [],
   "source": [
    "workbook = openpyxl.load_workbook(active_hydrological_model)\n",
    "sheet = workbook.active\n",
    "print(sheet)\n",
    "\n",
    "# Read a specific cell value\n",
    "cell_value = sheet['B2'].value\n",
    "print(f'Original Value: {cell_value}')"
   ]
  },
  {
   "cell_type": "code",
   "execution_count": null,
   "id": "73a4a40d-f6a7-488e-8186-e982fbe341bf",
   "metadata": {},
   "outputs": [],
   "source": []
  }
 ],
 "metadata": {
  "kernelspec": {
   "display_name": "climatechange",
   "language": "python",
   "name": "climatechange"
  },
  "language_info": {
   "codemirror_mode": {
    "name": "ipython",
    "version": 3
   },
   "file_extension": ".py",
   "mimetype": "text/x-python",
   "name": "python",
   "nbconvert_exporter": "python",
   "pygments_lexer": "ipython3",
   "version": "3.11.11"
  }
 },
 "nbformat": 4,
 "nbformat_minor": 5
}
