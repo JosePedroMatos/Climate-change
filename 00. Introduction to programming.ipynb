{
 "cells": [
  {
   "cell_type": "markdown",
   "id": "be328de7-72a2-46b0-87c0-967f373d00a1",
   "metadata": {},
   "source": [
    "# Programmation avec Python (1)\n",
    "Ici, vous apprendrez les bases de la programmation en Python.  \n",
    "Il y a des cases \"markdown\" (comme celle-ci) où vous pouvez en apprendre davantage sur l'exercice, et des cases \"code\" que vous pouvez modifier et exécuter.\n",
    "\n",
    "\n",
    "Gardez à l'esprit ce qui suit :\n",
    "#### (1) Pour descendre ou exécuter le code, appuyez sur `Shift-Enter`\n",
    "#### (2) Chaque \"kernel\" de Jupyter reste actif seulement quelques minutes  (~10 min) lorsqu'il est inactif. Si vous n'avez pas terminé, exécutez quelque chose de temps en temps.\n",
    "#### (3) Python est structuré par des \"indentations\" ou des \"tabulations\". S'il y a des erreurs, faites-y attention.\n",
    "#### (4) L'exécution se fait \"vers le bas\" et conserve la mémoire. Si vous \"sautez\" des blocs d'exécution, il peut y avoir des erreurs.  \n",
    "\n",
    "Bonne chance :)"
   ]
  },
  {
   "cell_type": "markdown",
   "id": "dbc0b09b-4cc9-4830-9523-a608a371e38f",
   "metadata": {},
   "source": [
    "## Code super basique\n",
    "Parce que je manque d'imagination... le Hello world.\n",
    "\n",
    "`print(...)` est une fonction.  \n",
    "`'  '` ou `\"  \"` indiquent que ce qui se trouve à l'intérieur est une chaîne de caractères.  \n",
    "`#` est une façon d'inclure des commentaires dans le code."
   ]
  },
  {
   "cell_type": "code",
   "execution_count": 1,
   "id": "39d21267-41a4-4267-8643-0d3182ed5af9",
   "metadata": {},
   "outputs": [
    {
     "name": "stdout",
     "output_type": "stream",
     "text": [
      "Bonjour le monde\n"
     ]
    }
   ],
   "source": [
    "# un commentaire\n",
    "\n",
    "print('Bonjour le monde') # les commentaires peuvent aussi être ici\n"
   ]
  },
  {
   "cell_type": "markdown",
   "id": "84cff5e3-d490-4a51-a264-b8707a1acedc",
   "metadata": {},
   "source": [
    "## Variables\n",
    "Les variables sont affectées avec le signe `=`.\n",
    "La liste (`list()`ou `[]`) et le dictionnaire (`dict` ou `{}`) sont des types particuliers de variables en Python.\n",
    "- Ils contiennent des éléments arbitraires.\n",
    "- Les deux peuvent être accédés avec `[]`.\n",
    "- Dans le cas des listes, avec des indices allant de 0 à la longueur de la liste - 1.\n",
    "- Dans le cas des dictionnaires, avec des \"clés\".\n",
    "\n",
    "\n",
    "Expérimentez avec les exemples ci-dessous et essayez de comprendre ce qui est affiché."
   ]
  },
  {
   "cell_type": "code",
   "execution_count": 2,
   "id": "3bc94fca-04d6-41e2-aaef-367ff3100fd0",
   "metadata": {},
   "outputs": [
    {
     "name": "stdout",
     "output_type": "stream",
     "text": [
      "1\n",
      "Je suis une longue ligne de texte\n",
      "Je suis une longue ligne de texte\n"
     ]
    }
   ],
   "source": [
    "a = 1 \n",
    "print(a)\n",
    "\n",
    "variable_b = \"Je suis une longue ligne de texte\"\n",
    "print(variable_b)\n",
    "\n",
    "a = variable_b\n",
    "print(a)"
   ]
  },
  {
   "cell_type": "code",
   "execution_count": 3,
   "id": "fde97ee6",
   "metadata": {
    "scrolled": true
   },
   "outputs": [
    {
     "name": "stdout",
     "output_type": "stream",
     "text": [
      "['Je suis une longue ligne de texte', 12, 'autre chaîne']\n",
      "La longueur de la liste est :\n",
      "3\n",
      "['Je suis une longue ligne de texte', 12, 'autre chaîne', 123]\n",
      "La longueur de la liste est :\n",
      "4\n",
      "Je suis une longue ligne de texte\n",
      "['Je suis une longue ligne de texte', 'quelque chose de nouveau', 'autre chaîne', 123]\n"
     ]
    }
   ],
   "source": [
    "# Maintenant, une liste\n",
    "some_list = [variable_b, 12, 'autre chaîne']\n",
    "print(some_list)\n",
    "\n",
    "print('La longueur de la liste est :')\n",
    "print(len(some_list))\n",
    "\n",
    "    # Ajouter des éléments à la liste\n",
    "some_list.append(123)\n",
    "print(some_list)\n",
    "\n",
    "print('La longueur de la liste est :')\n",
    "print(len(some_list))\n",
    "\n",
    "    # Accéder aux éléments d'une liste\n",
    "c = some_list[0]\n",
    "print(c)\n",
    "\n",
    "    # Modifier les éléments d'une liste\n",
    "some_list[1] = 'quelque chose de nouveau'\n",
    "print(some_list)"
   ]
  },
  {
   "cell_type": "code",
   "execution_count": 4,
   "id": "8fedea25",
   "metadata": {},
   "outputs": [
    {
     "name": "stdout",
     "output_type": "stream",
     "text": [
      "La longueur du dictionnaire est :\n",
      "0\n",
      "{'une clé': 54, 'une autre clé': \"quelque chose d'autre à l'intérieur!\"}\n",
      "La longueur du dictionnaire est :\n",
      "2\n",
      "54\n",
      "{'une clé': 54, 'une autre clé': 'bonjour!'}\n"
     ]
    }
   ],
   "source": [
    "# Et un dictionnaire :\n",
    "some_dict = {}\n",
    "\n",
    "print('La longueur du dictionnaire est :')\n",
    "print(len(some_dict))\n",
    "\n",
    "    # Ajouter des éléments à un dictionnaire\n",
    "some_dict['une clé'] = 54\n",
    "some_dict['une autre clé'] = 'quelque chose d\\'autre à l\\'intérieur!'\n",
    "\n",
    "print(some_dict)\n",
    "\n",
    "print('La longueur du dictionnaire est :')\n",
    "print(len(some_dict))\n",
    "\n",
    "    # Accéder aux éléments d'un dictionnaire\n",
    "print(some_dict['une clé'])\n",
    "\n",
    "    # Modifier les éléments d'un dictionnaire\n",
    "some_dict['une autre clé'] = 'bonjour!'\n",
    "print(some_dict)"
   ]
  },
  {
   "cell_type": "markdown",
   "id": "8894dbb3-8c6c-422b-a717-f6d36c829326",
   "metadata": {},
   "source": [
    "## Erreurs\n",
    "Parfois, les choses ne se passent pas comme prévu. Alors, vous obtenez des erreurs.  \n",
    "Ci-dessous, nous essayons d'extraire des informations d'une liste qui est trop courte !  \n",
    "Le type et le message de l'erreur fournissent des informations utiles.  \n",
    "Par exemple : 'index de liste hors de portée'\n",
    "\n",
    "Expérimentez avec le dictionnaire... Commentez la première ligne ci-dessous avec `#` et cherchez une clé qui n'existe pas dans \"some_dict\"\n"
   ]
  },
  {
   "cell_type": "code",
   "execution_count": 5,
   "id": "a375ef5f-b7c9-422e-b3ea-f15b2428f2bc",
   "metadata": {},
   "outputs": [
    {
     "ename": "IndexError",
     "evalue": "list index out of range",
     "output_type": "error",
     "traceback": [
      "\u001b[1;31m---------------------------------------------------------------------------\u001b[0m",
      "\u001b[1;31mIndexError\u001b[0m                                Traceback (most recent call last)",
      "\u001b[1;32m~\\AppData\\Local\\Temp\\ipykernel_22908\\467426775.py\u001b[0m in \u001b[0;36m<cell line: 0>\u001b[1;34m()\u001b[0m\n\u001b[1;32m----> 1\u001b[1;33m \u001b[0msome_list\u001b[0m\u001b[1;33m[\u001b[0m\u001b[1;36m23\u001b[0m\u001b[1;33m]\u001b[0m\u001b[1;33m\u001b[0m\u001b[1;33m\u001b[0m\u001b[0m\n\u001b[0m\u001b[0;32m      2\u001b[0m \u001b[1;33m\u001b[0m\u001b[0m\n\u001b[0;32m      3\u001b[0m \u001b[1;31m#some_dict['pas ma clé!']\u001b[0m\u001b[1;33m\u001b[0m\u001b[1;33m\u001b[0m\u001b[0m\n",
      "\u001b[1;31mIndexError\u001b[0m: list index out of range"
     ]
    }
   ],
   "source": [
    "some_list[23]\n",
    "\n",
    "#some_dict['pas ma clé!']"
   ]
  },
  {
   "cell_type": "markdown",
   "id": "cb6b0451-1d84-4e13-a948-938f7e33a79b",
   "metadata": {},
   "source": [
    "## Aller plus loin avec la logique, les opérateurs et les boucles\n",
    "Quelques exemples de boucles sont :\n",
    "- `if` `elif` `else`\n",
    "- `for`\n",
    "- `while`\n",
    "\n",
    "Les principaux opérateurs sont :\n",
    "- `==` (égal)\n",
    "- `!=` (différent)\n",
    "- `\\>=` et `<=` (supérieur ou égal / inférieur ou égal)\n",
    "- `and` (et)\n",
    "- `or` (ou)\n",
    "- `not` (non)\n",
    "\n",
    "`True` et `False` peuvent être utilisés comme variables \"booléennes\"\n",
    "\n",
    "Faites attention à la **syntaxe** et à l'**indentation**!\n"
   ]
  },
  {
   "cell_type": "code",
   "execution_count": 6,
   "id": "2aa20a73-c60b-4bc3-a468-aa95456e071a",
   "metadata": {},
   "outputs": [
    {
     "name": "stdout",
     "output_type": "stream",
     "text": [
      "z vaut 2\n",
      "Oui !\n"
     ]
    }
   ],
   "source": [
    "# La clause if elif else\n",
    "    # Essayez différentes valeurs de z pour obtenir les 3 messages\n",
    "z = 2\n",
    "if z==2: # == est l'opérateur d'égalité\n",
    "    print('z vaut 2')\n",
    "elif z>1000: # équivaut à 'sinon, si'\n",
    "    print('z est grand !')\n",
    "else: # si toutes les conditions précédentes échouent...\n",
    "    print('z est autre chose...')\n",
    "\n",
    "if z==2 and True:\n",
    "    print('Oui !')\n",
    "else:\n",
    "    print('Non !')"
   ]
  },
  {
   "cell_type": "code",
   "execution_count": 7,
   "id": "6319f8bf",
   "metadata": {},
   "outputs": [
    {
     "name": "stdout",
     "output_type": "stream",
     "text": [
      "1\n",
      "2\n",
      "abc\n",
      "122\n",
      "23\n",
      "[0, 0, -1]\n",
      "2\n"
     ]
    }
   ],
   "source": [
    "# La boucle for (ma préférée)\n",
    "# va parcourir tous les éléments d'une liste\n",
    "another_list = [1, 2, 'abc', 122, 23, [0, 0, -1], 2]\n",
    "for i in another_list:\n",
    "    print(i)"
   ]
  },
  {
   "cell_type": "code",
   "execution_count": 8,
   "id": "483f141c",
   "metadata": {},
   "outputs": [
    {
     "name": "stdout",
     "output_type": "stream",
     "text": [
      "2\n",
      "5\n",
      "8\n",
      "11\n",
      "14\n",
      "17\n"
     ]
    }
   ],
   "source": [
    "# range est un opérateur spécial. Dans ce cas, de 2 à 20-1 par pas de 3\n",
    "for i in range(2, 20, 3): \n",
    "    print(i)"
   ]
  },
  {
   "cell_type": "code",
   "execution_count": 9,
   "id": "f238d7a2",
   "metadata": {},
   "outputs": [
    {
     "name": "stdout",
     "output_type": "stream",
     "text": [
      "[0, 1, 2, 3, 4, 5, 6, 7, 8, 9]\n"
     ]
    }
   ],
   "source": [
    "# La façon \"pythonique\" d'utiliser une boucle for\n",
    "a = [i for i in range(10)]\n",
    "print(a)"
   ]
  },
  {
   "cell_type": "code",
   "execution_count": 10,
   "id": "34df7068",
   "metadata": {},
   "outputs": [
    {
     "name": "stdout",
     "output_type": "stream",
     "text": [
      "\n",
      "\n",
      "-2\n",
      "-1\n",
      "0\n",
      "1\n",
      "2\n"
     ]
    }
   ],
   "source": [
    "# La boucle while\n",
    "print('\\n')\n",
    "counter = -2\n",
    "condition = True\n",
    "while condition:\n",
    "    if counter!=3: # != est l'opérateur de différence\n",
    "        print(counter)\n",
    "        counter = counter + 1 # ou counter += 1\n",
    "    else:\n",
    "        condition=False # Cela va faire terminer la boucle"
   ]
  },
  {
   "cell_type": "markdown",
   "id": "5cd855f2-2e33-433c-8186-ef3119e5d350",
   "metadata": {},
   "source": [
    "## Fonctions\n",
    "\n",
    "En Python, une **fonction** est un bloc de code réutilisable qui effectue une tâche spécifique. Les fonctions aident à organiser le code, réduire les répétitions et améliorer la lisibilité.\n",
    "\n",
    "Une fonction est définie en utilisant le mot-clé `def`, suivi du nom de la fonction et des parenthèses. Vous pouvez passer des paramètres à l'intérieur des parenthèses, et le bloc de code qui constitue la fonction est **indenté** (comme pour les boucles que nous avons vues précédemment). Optionnellement, une fonction peut renvoyer une valeur en utilisant l'instruction `return`.\n"
   ]
  },
  {
   "cell_type": "code",
   "execution_count": 11,
   "id": "b8a5783b-fb0a-4816-88fc-3aeada5b0621",
   "metadata": {},
   "outputs": [
    {
     "name": "stdout",
     "output_type": "stream",
     "text": [
      "Bonjour, Alice!\n"
     ]
    }
   ],
   "source": [
    "# Définir une fonction simple qui affiche un message de salutation.\n",
    "def greet(name):\n",
    "    print(\"Bonjour, \" + name + \"!\")\n",
    "    \n",
    "# Appeler la fonction avec un nom d'exemple.\n",
    "greet(\"Alice\")\n"
   ]
  },
  {
   "cell_type": "markdown",
   "id": "11d274a0-c92d-498f-b420-ef1afac4cc8d",
   "metadata": {},
   "source": [
    "## Fonctions qui renvoient des valeurs\n",
    "\n",
    "En plus d'afficher des messages, les fonctions peuvent effectuer des calculs et renvoyer des résultats. Voici un exemple d'une fonction qui additionne deux nombres et renvoie leur somme.\n"
   ]
  },
  {
   "cell_type": "code",
   "execution_count": 12,
   "id": "ce054720-10b5-41d9-a493-a503272577ca",
   "metadata": {
    "scrolled": true
   },
   "outputs": [
    {
     "name": "stdout",
     "output_type": "stream",
     "text": [
      "La somme de 5 et 3 est 8\n"
     ]
    }
   ],
   "source": [
    "# Définir une fonction qui additionne deux nombres.\n",
    "def add(a, b):\n",
    "    \"\"\"Renvoie la somme de a et b.\"\"\"\n",
    "    return a + b\n",
    "\n",
    "# Appeler la fonction et stocker le résultat.\n",
    "result = add(5, 3)\n",
    "\n",
    "# Afficher le résultat.\n",
    "print(\"La somme de 5 et 3 est\", result)\n"
   ]
  },
  {
   "cell_type": "markdown",
   "id": "14ff5ea1-fe92-4500-94ec-042444d303ee",
   "metadata": {},
   "source": [
    "## Classes\n",
    "\n",
    "En Python, une **classe** est un modèle pour créer des objets. Les classes vous permettent de regrouper des données (attributs) et des fonctionnalités (méthodes) ensemble. Une fois définie, vous pouvez créer plusieurs objets (instances) à partir d'une classe.\n",
    "\n",
    "Une classe est définie en utilisant le mot-clé `class`. En général, vous définirez une méthode `__init__` pour initialiser les nouveaux objets et d'autres méthodes pour définir leurs comportements.\n",
    "\n",
    "Vous pouvez ajouter autant d'attributs et de méthodes que vous le souhaitez.\n"
   ]
  },
  {
   "cell_type": "code",
   "execution_count": 13,
   "id": "67ceb899-e8b1-45e2-9acd-551936f7798b",
   "metadata": {},
   "outputs": [
    {
     "name": "stdout",
     "output_type": "stream",
     "text": [
      "Salut, je m'appelle Alice et j'ai 30 ans.\n"
     ]
    }
   ],
   "source": [
    "# Définir une classe simple appelée Person.\n",
    "class Person:\n",
    "    def __init__(self, name, age):\n",
    "        '''\n",
    "        La méthode __init__ initialise un nouvel objet Person.\n",
    "        - name : le nom de la personne\n",
    "        - age : l\\'âge de la personne\n",
    "        '''\n",
    "        self.name = name\n",
    "        self.age = age\n",
    "\n",
    "    def introduce(self):\n",
    "        \"\"\"Affiche un message d'introduction.\"\"\"\n",
    "        print(f\"Salut, je m'appelle {self.name} et j'ai {self.age} ans.\")\n",
    "\n",
    "# Créer une instance de la classe Person.\n",
    "person1 = Person(\"Alice\", 30)\n",
    "\n",
    "# Appeler la méthode introduce sur l'instance person1.\n",
    "person1.introduce()\n",
    "\n",
    "# Tester avec une autre personne...\n",
    "#you = Person(\"Votre nom\", 23)\n",
    "#you.introduce()\n"
   ]
  },
  {
   "cell_type": "markdown",
   "id": "a21ad646-ab87-45a4-beea-1d101d067901",
   "metadata": {},
   "source": [
    "## Modules\n",
    "Enfin, vous pouvez importer des modules pour des fonctionnalités supplémentaires. Il en existe vraiment beaucoup. Voici quelques exemples :\n",
    "- **pandas** (pour manipuler des opérations sur les données, par exemple .csv ou .xlsx)\n",
    "- **numpy** (pour les mathématiques et l'algèbre matricielle)\n",
    "- **matplotlib** (pour les graphiques)\n",
    "- **sklearn** (pour l'apprentissage automatique !)\n",
    "\n",
    "Ils peuvent être importés de plusieurs façons. Consultez les exemples ci-dessous.\n"
   ]
  },
  {
   "cell_type": "code",
   "execution_count": 14,
   "id": "dbf62269-176b-4f12-86f3-6f7cbf158ba7",
   "metadata": {},
   "outputs": [],
   "source": [
    "import math\n",
    "import numpy as np\n",
    "from matplotlib import pyplot as plt\n",
    "# Une autre façon d'écrire\n",
    "import matplotlib.pyplot as plt"
   ]
  },
  {
   "cell_type": "code",
   "execution_count": 9,
   "id": "df8ffbb1-59e4-42ce-a803-8b9c37ee25c8",
   "metadata": {},
   "outputs": [
    {
     "name": "stdout",
     "output_type": "stream",
     "text": [
      "[[ 0.34193549]\n",
      " [-0.5355919 ]\n",
      " [ 1.89269539]\n",
      " [-0.94054692]\n",
      " [ 0.05798485]\n",
      " [ 1.04789186]\n",
      " [ 0.90023542]\n",
      " [-0.28981412]\n",
      " [-1.10773779]\n",
      " [-0.40848455]\n",
      " [-0.91303476]\n",
      " [ 0.48322623]\n",
      " [-0.41579032]\n",
      " [-0.04361213]\n",
      " [-0.59711406]\n",
      " [ 0.68184603]\n",
      " [-0.89410359]\n",
      " [-1.00045003]\n",
      " [ 0.12485627]\n",
      " [-0.67816698]]\n"
     ]
    }
   ],
   "source": [
    "# Maintenant, vous pouvez utiliser ces modules / packages\n",
    "x = np.random.randn(20,1)\n",
    "print(x)"
   ]
  },
  {
   "cell_type": "code",
   "execution_count": 10,
   "id": "6ab7e965-e4ac-4d35-afbc-d0a0bb872706",
   "metadata": {},
   "outputs": [
    {
     "name": "stdout",
     "output_type": "stream",
     "text": [
      "[[1.16919878e-01]\n",
      " [2.86858680e-01]\n",
      " [3.58229585e+00]\n",
      " [8.84628503e-01]\n",
      " [3.36224269e-03]\n",
      " [1.09807735e+00]\n",
      " [8.10423813e-01]\n",
      " [8.39922254e-02]\n",
      " [1.22708300e+00]\n",
      " [1.66859628e-01]\n",
      " [8.33632479e-01]\n",
      " [2.33507590e-01]\n",
      " [1.72881594e-01]\n",
      " [1.90201788e-03]\n",
      " [3.56545197e-01]\n",
      " [4.64914004e-01]\n",
      " [7.99421224e-01]\n",
      " [1.00090025e+00]\n",
      " [1.55890883e-02]\n",
      " [4.59910457e-01]]\n"
     ]
    }
   ],
   "source": [
    "# Effectuer quelques calculs\n",
    "y = x**2\n",
    "print(y)"
   ]
  },
  {
   "cell_type": "code",
   "execution_count": 11,
   "id": "83761267-266b-4efd-a166-d3792539b400",
   "metadata": {},
   "outputs": [
    {
     "data": {
      "text/plain": [
       "<matplotlib.legend.Legend at 0x26160162290>"
      ]
     },
     "execution_count": 11,
     "metadata": {},
     "output_type": "execute_result"
    },
    {
     "data": {
      "image/png": "[encoded data removed]",
      "text/plain": [
       "<Figure size 640x480 with 1 Axes>"
      ]
     },
     "metadata": {},
     "output_type": "display_data"
    }
   ],
   "source": [
    "# Et tracer le résultat\n",
    "plt.plot(x, y, '.',  color='red', label='une fonction')\n",
    "plt.xlabel('x')\n",
    "plt.ylabel('x au carré')\n",
    "plt.legend()"
   ]
  },
  {
   "cell_type": "markdown",
   "id": "df430016-07e9-4f0d-83ad-209d1f3dbff5",
   "metadata": {},
   "source": [
    "## C'est tout pour les bases !\n",
    "\n",
    "N'hésitez pas à expérimenter avec les exemples ci-dessus.\n"
   ]
  }
 ],
 "metadata": {
  "kernelspec": {
   "display_name": "Python 3 (ipykernel)",
   "language": "python",
   "name": "python3"
  },
  "language_info": {
   "codemirror_mode": {
    "name": "ipython",
    "version": 3
   },
   "file_extension": ".py",
   "mimetype": "text/x-python",
   "name": "python",
   "nbconvert_exporter": "python",
   "pygments_lexer": "ipython3",
   "version": "3.11.8"
  }
 },
 "nbformat": 4,
 "nbformat_minor": 5
}
