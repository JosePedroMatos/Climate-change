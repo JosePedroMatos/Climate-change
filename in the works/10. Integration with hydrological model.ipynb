{
 "cells": [
  {
   "cell_type": "code",
   "execution_count": 1,
   "id": "a91937a5",
   "metadata": {},
   "outputs": [
    {
     "ename": "FileNotFoundError",
     "evalue": "[Errno 2] No such file or directory: 'example.xlsx'",
     "output_type": "error",
     "traceback": [
      "\u001b[31m---------------------------------------------------------------------------\u001b[39m",
      "\u001b[31mFileNotFoundError\u001b[39m                         Traceback (most recent call last)",
      "\u001b[36mCell\u001b[39m\u001b[36m \u001b[39m\u001b[32mIn[1]\u001b[39m\u001b[32m, line 4\u001b[39m\n\u001b[32m      1\u001b[39m \u001b[38;5;28;01mimport\u001b[39;00m\u001b[38;5;250m \u001b[39m\u001b[34;01mopenpyxl\u001b[39;00m\n\u001b[32m      3\u001b[39m \u001b[38;5;66;03m# Load the existing workbook\u001b[39;00m\n\u001b[32m----> \u001b[39m\u001b[32m4\u001b[39m workbook = \u001b[43mopenpyxl\u001b[49m\u001b[43m.\u001b[49m\u001b[43mload_workbook\u001b[49m\u001b[43m(\u001b[49m\u001b[33;43m'\u001b[39;49m\u001b[33;43mexample.xlsx\u001b[39;49m\u001b[33;43m'\u001b[39;49m\u001b[43m)\u001b[49m\n\u001b[32m      5\u001b[39m sheet = workbook.active\n\u001b[32m      7\u001b[39m \u001b[38;5;66;03m# Read a specific cell value\u001b[39;00m\n",
      "\u001b[36mFile \u001b[39m\u001b[32m~\\.conda\\envs\\climatechange\\Lib\\site-packages\\openpyxl\\reader\\excel.py:346\u001b[39m, in \u001b[36mload_workbook\u001b[39m\u001b[34m(filename, read_only, keep_vba, data_only, keep_links, rich_text)\u001b[39m\n\u001b[32m    316\u001b[39m \u001b[38;5;28;01mdef\u001b[39;00m\u001b[38;5;250m \u001b[39m\u001b[34mload_workbook\u001b[39m(filename, read_only=\u001b[38;5;28;01mFalse\u001b[39;00m, keep_vba=KEEP_VBA,\n\u001b[32m    317\u001b[39m                   data_only=\u001b[38;5;28;01mFalse\u001b[39;00m, keep_links=\u001b[38;5;28;01mTrue\u001b[39;00m, rich_text=\u001b[38;5;28;01mFalse\u001b[39;00m):\n\u001b[32m    318\u001b[39m \u001b[38;5;250m    \u001b[39m\u001b[33;03m\"\"\"Open the given filename and return the workbook\u001b[39;00m\n\u001b[32m    319\u001b[39m \n\u001b[32m    320\u001b[39m \u001b[33;03m    :param filename: the path to open or a file-like object\u001b[39;00m\n\u001b[32m   (...)\u001b[39m\u001b[32m    344\u001b[39m \n\u001b[32m    345\u001b[39m \u001b[33;03m    \"\"\"\u001b[39;00m\n\u001b[32m--> \u001b[39m\u001b[32m346\u001b[39m     reader = \u001b[43mExcelReader\u001b[49m\u001b[43m(\u001b[49m\u001b[43mfilename\u001b[49m\u001b[43m,\u001b[49m\u001b[43m \u001b[49m\u001b[43mread_only\u001b[49m\u001b[43m,\u001b[49m\u001b[43m \u001b[49m\u001b[43mkeep_vba\u001b[49m\u001b[43m,\u001b[49m\n\u001b[32m    347\u001b[39m \u001b[43m                         \u001b[49m\u001b[43mdata_only\u001b[49m\u001b[43m,\u001b[49m\u001b[43m \u001b[49m\u001b[43mkeep_links\u001b[49m\u001b[43m,\u001b[49m\u001b[43m \u001b[49m\u001b[43mrich_text\u001b[49m\u001b[43m)\u001b[49m\n\u001b[32m    348\u001b[39m     reader.read()\n\u001b[32m    349\u001b[39m     \u001b[38;5;28;01mreturn\u001b[39;00m reader.wb\n",
      "\u001b[36mFile \u001b[39m\u001b[32m~\\.conda\\envs\\climatechange\\Lib\\site-packages\\openpyxl\\reader\\excel.py:123\u001b[39m, in \u001b[36mExcelReader.__init__\u001b[39m\u001b[34m(self, fn, read_only, keep_vba, data_only, keep_links, rich_text)\u001b[39m\n\u001b[32m    121\u001b[39m \u001b[38;5;28;01mdef\u001b[39;00m\u001b[38;5;250m \u001b[39m\u001b[34m__init__\u001b[39m(\u001b[38;5;28mself\u001b[39m, fn, read_only=\u001b[38;5;28;01mFalse\u001b[39;00m, keep_vba=KEEP_VBA,\n\u001b[32m    122\u001b[39m              data_only=\u001b[38;5;28;01mFalse\u001b[39;00m, keep_links=\u001b[38;5;28;01mTrue\u001b[39;00m, rich_text=\u001b[38;5;28;01mFalse\u001b[39;00m):\n\u001b[32m--> \u001b[39m\u001b[32m123\u001b[39m     \u001b[38;5;28mself\u001b[39m.archive = \u001b[43m_validate_archive\u001b[49m\u001b[43m(\u001b[49m\u001b[43mfn\u001b[49m\u001b[43m)\u001b[49m\n\u001b[32m    124\u001b[39m     \u001b[38;5;28mself\u001b[39m.valid_files = \u001b[38;5;28mself\u001b[39m.archive.namelist()\n\u001b[32m    125\u001b[39m     \u001b[38;5;28mself\u001b[39m.read_only = read_only\n",
      "\u001b[36mFile \u001b[39m\u001b[32m~\\.conda\\envs\\climatechange\\Lib\\site-packages\\openpyxl\\reader\\excel.py:95\u001b[39m, in \u001b[36m_validate_archive\u001b[39m\u001b[34m(filename)\u001b[39m\n\u001b[32m     88\u001b[39m             msg = (\u001b[33m'\u001b[39m\u001b[33mopenpyxl does not support \u001b[39m\u001b[38;5;132;01m%s\u001b[39;00m\u001b[33m file format, \u001b[39m\u001b[33m'\u001b[39m\n\u001b[32m     89\u001b[39m                    \u001b[33m'\u001b[39m\u001b[33mplease check you can open \u001b[39m\u001b[33m'\u001b[39m\n\u001b[32m     90\u001b[39m                    \u001b[33m'\u001b[39m\u001b[33mit with Excel first. \u001b[39m\u001b[33m'\u001b[39m\n\u001b[32m     91\u001b[39m                    \u001b[33m'\u001b[39m\u001b[33mSupported formats are: \u001b[39m\u001b[38;5;132;01m%s\u001b[39;00m\u001b[33m'\u001b[39m) % (file_format,\n\u001b[32m     92\u001b[39m                                                    \u001b[33m'\u001b[39m\u001b[33m,\u001b[39m\u001b[33m'\u001b[39m.join(SUPPORTED_FORMATS))\n\u001b[32m     93\u001b[39m         \u001b[38;5;28;01mraise\u001b[39;00m InvalidFileException(msg)\n\u001b[32m---> \u001b[39m\u001b[32m95\u001b[39m archive = \u001b[43mZipFile\u001b[49m\u001b[43m(\u001b[49m\u001b[43mfilename\u001b[49m\u001b[43m,\u001b[49m\u001b[43m \u001b[49m\u001b[33;43m'\u001b[39;49m\u001b[33;43mr\u001b[39;49m\u001b[33;43m'\u001b[39;49m\u001b[43m)\u001b[49m\n\u001b[32m     96\u001b[39m \u001b[38;5;28;01mreturn\u001b[39;00m archive\n",
      "\u001b[36mFile \u001b[39m\u001b[32m~\\.conda\\envs\\climatechange\\Lib\\zipfile.py:1295\u001b[39m, in \u001b[36mZipFile.__init__\u001b[39m\u001b[34m(self, file, mode, compression, allowZip64, compresslevel, strict_timestamps, metadata_encoding)\u001b[39m\n\u001b[32m   1293\u001b[39m \u001b[38;5;28;01mwhile\u001b[39;00m \u001b[38;5;28;01mTrue\u001b[39;00m:\n\u001b[32m   1294\u001b[39m     \u001b[38;5;28;01mtry\u001b[39;00m:\n\u001b[32m-> \u001b[39m\u001b[32m1295\u001b[39m         \u001b[38;5;28mself\u001b[39m.fp = \u001b[43mio\u001b[49m\u001b[43m.\u001b[49m\u001b[43mopen\u001b[49m\u001b[43m(\u001b[49m\u001b[43mfile\u001b[49m\u001b[43m,\u001b[49m\u001b[43m \u001b[49m\u001b[43mfilemode\u001b[49m\u001b[43m)\u001b[49m\n\u001b[32m   1296\u001b[39m     \u001b[38;5;28;01mexcept\u001b[39;00m \u001b[38;5;167;01mOSError\u001b[39;00m:\n\u001b[32m   1297\u001b[39m         \u001b[38;5;28;01mif\u001b[39;00m filemode \u001b[38;5;129;01min\u001b[39;00m modeDict:\n",
      "\u001b[31mFileNotFoundError\u001b[39m: [Errno 2] No such file or directory: 'example.xlsx'"
     ]
    }
   ],
   "source": [
    "import openpyxl\n",
    "\n",
    "# Load the existing workbook\n",
    "workbook = openpyxl.load_workbook('example.xlsx')\n",
    "sheet = workbook.active\n",
    "\n",
    "# Read a specific cell value\n",
    "cell_value = sheet['B2'].value\n",
    "print(f'Original Value: {cell_value}')\n",
    "\n",
    "# Modify the cell value\n",
    "sheet['B2'] = 'Updated Value'\n",
    "\n",
    "# Save the workbook with changes\n",
    "workbook.save('example.xlsx')\n"
   ]
  },
  {
   "cell_type": "code",
   "execution_count": null,
   "id": "c8ff9d2b-ff25-481f-90e0-8d1fdf9e3f6f",
   "metadata": {},
   "outputs": [],
   "source": []
  }
 ],
 "metadata": {
  "kernelspec": {
   "display_name": "climatechange",
   "language": "python",
   "name": "climatechange"
  },
  "language_info": {
   "codemirror_mode": {
    "name": "ipython",
    "version": 3
   },
   "file_extension": ".py",
   "mimetype": "text/x-python",
   "name": "python",
   "nbconvert_exporter": "python",
   "pygments_lexer": "ipython3",
   "version": "3.11.11"
  }
 },
 "nbformat": 4,
 "nbformat_minor": 5
}
