{
 "cells": [
  {
   "cell_type": "markdown",
   "id": "75560fe3-6c7c-4f1b-afa2-7dfdc4853c71",
   "metadata": {},
   "source": [
    "### Importation et exportation des données  \n",
    "Il devient facile de travailler avec les données téléchargées.  \n",
    "Vous trouverez ci-dessous des exemples pour les données ERA5 et CORDEX."
   ]
  },
  {
   "cell_type": "code",
   "execution_count": 3,
   "id": "2eabcc7c-5770-4ae6-a30a-a3a66e026e89",
   "metadata": {},
   "outputs": [
    {
     "ename": "ModuleNotFoundError",
     "evalue": "No module named 'tethys_raster_file'",
     "output_type": "error",
     "traceback": [
      "\u001b[31m---------------------------------------------------------------------------\u001b[39m",
      "\u001b[31mModuleNotFoundError\u001b[39m                       Traceback (most recent call last)",
      "\u001b[36mCell\u001b[39m\u001b[36m \u001b[39m\u001b[32mIn[3]\u001b[39m\u001b[32m, line 5\u001b[39m\n\u001b[32m      3\u001b[39m \u001b[38;5;28;01mfrom\u001b[39;00m\u001b[38;5;250m \u001b[39m\u001b[34;01mmatplotlib\u001b[39;00m\u001b[38;5;250m \u001b[39m\u001b[38;5;28;01mimport\u001b[39;00m pyplot \u001b[38;5;28;01mas\u001b[39;00m plt\n\u001b[32m      4\u001b[39m \u001b[38;5;28;01mfrom\u001b[39;00m\u001b[38;5;250m \u001b[39m\u001b[34;01mmeteoraster\u001b[39;00m\u001b[38;5;250m \u001b[39m\u001b[38;5;28;01mimport\u001b[39;00m MeteoRaster\n\u001b[32m----> \u001b[39m\u001b[32m5\u001b[39m \u001b[38;5;28;01mfrom\u001b[39;00m\u001b[38;5;250m \u001b[39m\u001b[34;01mmeteoraster\u001b[39;00m\u001b[34;01m.\u001b[39;00m\u001b[34;01mutils\u001b[39;00m\u001b[38;5;250m \u001b[39m\u001b[38;5;28;01mimport\u001b[39;00m readERA5Land_monthly, readCORDEX_monthly\n\u001b[32m      6\u001b[39m \u001b[38;5;28;01mimport\u001b[39;00m\u001b[38;5;250m \u001b[39m\u001b[34;01mmatplotlib\u001b[39;00m\u001b[34;01m.\u001b[39;00m\u001b[34;01mpyplot\u001b[39;00m\u001b[38;5;250m \u001b[39m\u001b[38;5;28;01mas\u001b[39;00m\u001b[38;5;250m \u001b[39m\u001b[34;01mplt\u001b[39;00m\n",
      "\u001b[36mFile \u001b[39m\u001b[32m~\\.conda\\envs\\climatechange\\Lib\\site-packages\\meteoraster\\utils.py:33\u001b[39m\n\u001b[32m     31\u001b[39m \u001b[38;5;28;01mimport\u001b[39;00m\u001b[38;5;250m \u001b[39m\u001b[34;01mcartopy\u001b[39;00m\u001b[34;01m.\u001b[39;00m\u001b[34;01mio\u001b[39;00m\u001b[34;01m.\u001b[39;00m\u001b[34;01mshapereader\u001b[39;00m\u001b[38;5;250m \u001b[39m\u001b[38;5;28;01mas\u001b[39;00m\u001b[38;5;250m \u001b[39m\u001b[34;01mshpreader\u001b[39;00m\n\u001b[32m     32\u001b[39m \u001b[38;5;28;01mfrom\u001b[39;00m\u001b[38;5;250m \u001b[39m\u001b[34;01mcollections\u001b[39;00m\u001b[34;01m.\u001b[39;00m\u001b[34;01mabc\u001b[39;00m\u001b[38;5;250m \u001b[39m\u001b[38;5;28;01mimport\u001b[39;00m Iterable\n\u001b[32m---> \u001b[39m\u001b[32m33\u001b[39m \u001b[38;5;28;01mfrom\u001b[39;00m\u001b[38;5;250m \u001b[39m\u001b[34;01mtethys_raster_file\u001b[39;00m\u001b[38;5;250m \u001b[39m\u001b[38;5;28;01mimport\u001b[39;00m TethysRasterFile\n\u001b[32m     35\u001b[39m \u001b[38;5;28;01mdef\u001b[39;00m\u001b[38;5;250m \u001b[39m\u001b[34mreadNMME\u001b[39m(variable, date):\n\u001b[32m     36\u001b[39m \u001b[38;5;250m    \u001b[39m\u001b[33;03m'''\u001b[39;00m\n\u001b[32m     37\u001b[39m \u001b[33;03m    Reads forecast data from all the available NMME data for a certain date (month).\u001b[39;00m\n\u001b[32m     38\u001b[39m \u001b[33;03m    '''\u001b[39;00m\n",
      "\u001b[31mModuleNotFoundError\u001b[39m: No module named 'tethys_raster_file'"
     ]
    }
   ],
   "source": [
    "import pandas as pd\n",
    "from pathlib import Path\n",
    "from matplotlib import pyplot as plt\n",
    "from meteoraster import MeteoRaster\n",
    "from meteoraster.utils import readERA5Land_monthly, readCORDEX_monthly\n",
    "import matplotlib.pyplot as plt"
   ]
  },
  {
   "cell_type": "markdown",
   "id": "311c06d6-b2ae-4633-9b4e-f793713959ef",
   "metadata": {},
   "source": [
    "### ERA5 pour le Maroc (Précipitation)"
   ]
  },
  {
   "cell_type": "code",
   "execution_count": null,
   "id": "b692b71b-ba76-4598-82b1-e0f476fedd39",
   "metadata": {},
   "outputs": [],
   "source": [
    "file = Path(r'data/ERA5 land/pr_MOROCCO_ERA5Land.grib')\n",
    "era5 = readERA5Land_monthly(file, 'tp')\n",
    "data = era5.plot_mean(coastline=True, borders=False, colorbar=True,\n",
    "colorbar_label=f'[{era5.units}]', cmap='viridis', central_longitude=20, central_latitude=30)"
   ]
  },
  {
   "cell_type": "markdown",
   "id": "16bdd8df-b210-4714-abf7-f4278240417b",
   "metadata": {},
   "source": [
    "### ERA5 pour le Maroc (Température)"
   ]
  },
  {
   "cell_type": "code",
   "execution_count": null,
   "id": "6e80ae52-ea2d-407e-8885-c908e115f455",
   "metadata": {},
   "outputs": [],
   "source": [
    "file = Path(r'data/ERA5 land/tas_MOROCCO_ERA5Land.grib')\n",
    "era5 = readERA5Land_monthly(file, 't2m')\n",
    "data = era5.plot_mean(coastline=True, borders=False, colorbar=True,\n",
    "colorbar_label=f'[{era5.units}]', cmap='magma', central_longitude=20, central_latitude=30)"
   ]
  },
  {
   "cell_type": "markdown",
   "id": "944c3057-2086-419f-85e7-e4baa1124b06",
   "metadata": {},
   "source": [
    "### CORDEX"
   ]
  },
  {
   "cell_type": "code",
   "execution_count": null,
   "id": "51ce5284-9a46-406b-bfb0-1e766e209d08",
   "metadata": {},
   "outputs": [],
   "source": [
    "file = Path(r'data/CORDEX/tas_AFR-44_ICHEC-EC-EARTH_rcp85_r1i1p1_SMHI-RCA4_v1_mon_200601-201012.nc')\n",
    "cordex = readCORDEX_monthly(file, 'tas')\n",
    "data = cordex.plot_mean(coastline=True, borders=False, colorbar=True,\n",
    "                        colorbar_label=f'[{era5.units}]', cmap='magma', central_longitude=20, central_latitude=30)"
   ]
  },
  {
   "cell_type": "markdown",
   "id": "efb6892e-0391-4bea-827d-084b30005191",
   "metadata": {},
   "source": [
    "### Et rejoindre plusiers fichiers"
   ]
  },
  {
   "cell_type": "code",
   "execution_count": null,
   "id": "09b3430a-7e36-496c-91a6-1a1197491399",
   "metadata": {},
   "outputs": [],
   "source": [
    "sorted = [p for p in Path(r'data/CORDEX/').glob('*.nc')] \n",
    "sorted.sort()\n",
    "\n",
    "for i0, f0 in enumerate(sorted):\n",
    "    print(f0)\n",
    "    if i0==0:\n",
    "        cordex = readCORDEX_monthly(f0, 'tas')\n",
    "    else:\n",
    "        cordex.join(readCORDEX_monthly(f0, 'tas'))\n",
    "    \n",
    "era5.getDataFromLatLon(30, -5).plot()\n",
    "    \n",
    "plt.show(block=True)\n",
    "print('Done!')"
   ]
  },
  {
   "cell_type": "code",
   "execution_count": null,
   "id": "4ff23035-7a42-4ab7-bb91-b6c0d24b3531",
   "metadata": {},
   "outputs": [],
   "source": []
  }
 ],
 "metadata": {
  "kernelspec": {
   "display_name": "climatechange",
   "language": "python",
   "name": "climatechange"
  },
  "language_info": {
   "codemirror_mode": {
    "name": "ipython",
    "version": 3
   },
   "file_extension": ".py",
   "mimetype": "text/x-python",
   "name": "python",
   "nbconvert_exporter": "python",
   "pygments_lexer": "ipython3",
   "version": "3.11.11"
  }
 },
 "nbformat": 4,
 "nbformat_minor": 5
}
