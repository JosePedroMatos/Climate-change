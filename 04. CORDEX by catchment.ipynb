{
 "cells": [
  {
   "cell_type": "markdown",
   "id": "974c185c",
   "metadata": {},
   "source": [
    "# Obtenir des données par bassin versant\n",
    "### Vue d'ensemble\n",
    "\n",
    "L'objectif c'est d'extraire la série temporelle associée à des bassins versants pour chaque projection CORDEX.  \n",
    "Por le faire, il faut travailler avec:\n",
    "- Les données de base CORDEX (région du Maroc, pas de temps mensuel, format .mr (MeteoRaster)).\n",
    "- La forme de chaque bassin versant (format .kml (Google Earth), avec information sur le code du bassin).\n",
    "- Le nom de la colonne d'information dans le fichier .kml (pour nous, \"Indice\")."
   ]
  },
  {
   "cell_type": "markdown",
   "id": "38999399",
   "metadata": {},
   "source": [
    "### L'intérieur du fichier KML\n",
    "Avec le code suivant, nous pouvons voir les premières 39 lignes du ficheir `catchments.kml`.\n",
    "\n",
    "Voir `\"Indice\"` dans les champs `\\<SimpleData\\>`."
   ]
  },
  {
   "cell_type": "code",
   "execution_count": 13,
   "id": "ac0f138f",
   "metadata": {},
   "outputs": [
    {
     "name": "stdout",
     "output_type": "stream",
     "text": [
      "<?xml version=\"1.0\" encoding=\"UTF-8\"?>\n",
      "<kml xmlns=\"http://www.opengis.net/kml/2.2\" xmlns:gx=\"http://www.google.com/kml/ext/2.2\" xmlns:kml=\"http://www.opengis.net/kml/2.2\" xmlns:atom=\"http://www.w3.org/2005/Atom\">\n",
      "<Document>\n",
      "\t<name>catchments.kml</name>\n",
      "\t<Schema name=\"catchments\" id=\"catchments\">\n",
      "\t\t<SimpleField type=\"string\" name=\"LAYER\"></SimpleField>\n",
      "\t\t<SimpleField type=\"string\" name=\"PERIMETER\"></SimpleField>\n",
      "\t\t<SimpleField type=\"string\" name=\"ENCLOSED_A\"></SimpleField>\n",
      "\t\t<SimpleField type=\"string\" name=\"Point\"></SimpleField>\n",
      "\t\t<SimpleField type=\"string\" name=\"Indice\"></SimpleField>\n",
      "\t\t<SimpleField type=\"string\" name=\"Oued\"></SimpleField>\n",
      "\t\t<SimpleField type=\"float\" name=\"Area km2\"></SimpleField>\n",
      "\t</Schema>\n",
      "\t<Folder>\n",
      "\t\t<name>catchments</name>\n",
      "\t\t<Placemark>\n",
      "\t\t\t<Style>\n",
      "\t\t\t\t<LineStyle>\n",
      "\t\t\t\t\t<color>ff0000ff</color>\n",
      "\t\t\t\t</LineStyle>\n",
      "\t\t\t\t<PolyStyle>\n",
      "\t\t\t\t\t<fill>0</fill>\n",
      "\t\t\t\t</PolyStyle>\n",
      "\t\t\t</Style>\n",
      "\t\t\t<ExtendedData>\n",
      "\t\t\t\t<SchemaData schemaUrl=\"#catchments\">\n",
      "\t\t\t\t\t<SimpleData name=\"LAYER\">Unknown Area Type</SimpleData>\n",
      "\t\t\t\t\t<SimpleData name=\"PERIMETER\">340.84 km</SimpleData>\n",
      "\t\t\t\t\t<SimpleData name=\"ENCLOSED_A\">1245.5 sq km</SimpleData>\n",
      "\t\t\t\t\t<SimpleData name=\"Point\">BGE Tamesna</SimpleData>\n",
      "\t\t\t\t\t<SimpleData name=\"Indice\">Q15a</SimpleData>\n",
      "\t\t\t\t\t<SimpleData name=\"Oued\">Zamrine</SimpleData>\n",
      "\t\t\t\t\t<SimpleData name=\"Area km2\">1246.45</SimpleData>\n",
      "\t\t\t\t</SchemaData>\n",
      "\t\t\t</ExtendedData>\n",
      "\t\t\t<MultiGeometry>\n",
      "\t\t\t\t<Polygon>\n",
      "\t\t\t\t\t<outerBoundaryIs>\n",
      "\t\t\t\t\t\t<LinearRing>\n",
      "\t\t\t\t\t\t\t<coordinates>\n"
     ]
    }
   ],
   "source": [
    "import pandas as pd\n",
    "from pathlib import Path\n",
    "\n",
    "kml = Path(r'data/catchments.kml')\n",
    "\n",
    "with open(kml, 'r', encoding='utf-8') as file:\n",
    "    for i, line in enumerate(file):\n",
    "        print(line.rstrip())\n",
    "        if i >= 39:\n",
    "            break"
   ]
  },
  {
   "cell_type": "code",
   "execution_count": null,
   "id": "841bad5a",
   "metadata": {},
   "outputs": [],
   "source": []
  }
 ],
 "metadata": {
  "kernelspec": {
   "display_name": "Python 3 (ipykernel)",
   "language": "python",
   "name": "python3"
  },
  "language_info": {
   "codemirror_mode": {
    "name": "ipython",
    "version": 3
   },
   "file_extension": ".py",
   "mimetype": "text/x-python",
   "name": "python",
   "nbconvert_exporter": "python",
   "pygments_lexer": "ipython3",
   "version": "3.11.5"
  }
 },
 "nbformat": 4,
 "nbformat_minor": 5
}
