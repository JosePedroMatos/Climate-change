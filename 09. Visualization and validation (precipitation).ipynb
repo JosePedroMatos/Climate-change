{
 "cells": [
  {
   "cell_type": "code",
   "execution_count": null,
   "id": "d9255634",
   "metadata": {},
   "outputs": [],
   "source": []
  }
 ],
 "metadata": {
  "kernelspec": {
   "display_name": "climatechange",
   "language": "python",
   "name": "climatechange"
  },
  "language_info": {
   "codemirror_mode": {
    "name": "ipython",
    "version": 3
   },
   "file_extension": ".py",
   "mimetype": "text/x-python",
   "name": "python",
   "nbconvert_exporter": "python",
   "pygments_lexer": "ipython3",
   "version": "3.11.11"
  }
 },
 "nbformat": 4,
 "nbformat_minor": 5
}
